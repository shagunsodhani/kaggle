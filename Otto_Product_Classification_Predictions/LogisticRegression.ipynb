{
 "cells": [
  {
   "cell_type": "code",
   "execution_count": 1,
   "metadata": {
    "collapsed": false
   },
   "outputs": [
    {
     "name": "stderr",
     "output_type": "stream",
     "text": [
      "Using TensorFlow backend.\n"
     ]
    }
   ],
   "source": [
    "import numpy as np\n",
    "import pandas as pd\n",
    "from sklearn.model_selection import train_test_split\n",
    "from sklearn.preprocessing import StandardScaler, LabelEncoder\n",
    "import keras\n",
    "from keras.utils import np_utils\n",
    "from keras.models import Sequential\n",
    "from keras.layers import Dense, Activation\n",
    "from keras.callbacks import EarlyStopping, ModelCheckpoint"
   ]
  },
  {
   "cell_type": "code",
   "execution_count": 2,
   "metadata": {
    "collapsed": false
   },
   "outputs": [],
   "source": [
    "def preprocess_data(X, scaler=None):\n",
    "    '''Standardize features by removing the mean and scaling to unit variance'''\n",
    "    if not scaler:\n",
    "        scaler = StandardScaler()\n",
    "        scaler.fit(X)\n",
    "    return scaler.transform(X), scaler\n",
    "\n",
    "def preprocess_labels(y, encoder=None, categorical=True):\n",
    "    '''Encode labels with value between 0 and n_classes-1.'''\n",
    "    if not encoder:\n",
    "        encoder = LabelEncoder()\n",
    "        encoder.fit(y)\n",
    "    labels = encoder.transform(y).astype(np.int32)\n",
    "    if categorical:\n",
    "        labels = np_utils.to_categorical(labels)\n",
    "    return labels, encoder\n",
    "\n",
    "def load_data(path):\n",
    "    df = pd.read_csv(path)\n",
    "    data = df.values\n",
    "    np.random.shuffle(data)\n",
    "    X = data[:, 1:-1].astype(np.float32)\n",
    "    y = data[:, -1]\n",
    "    y, _ = preprocess_labels(y)\n",
    "    x_train, x_test, y_train, y_test = train_test_split(X, y, test_size=0.3)\n",
    "    x_test, x_val, y_test, y_val = train_test_split(x_test, y_test, test_size=0.5)\n",
    "    x_train, scaler = preprocess_data(x_train)\n",
    "#     we use only the training data to normalize the data.\n",
    "    x_test, _ = preprocess_data(x_test, scaler)\n",
    "    x_val, _ = preprocess_data(x_val, scaler)\n",
    "    return ((x_train, y_train),\n",
    "            (x_val, y_val),\n",
    "            (x_test, y_test))"
   ]
  },
  {
   "cell_type": "code",
   "execution_count": 3,
   "metadata": {
    "collapsed": false
   },
   "outputs": [],
   "source": [
    "path = \"data/train.csv\"\n",
    "(x_train, y_train), (x_val, y_val), (x_test, y_test) = load_data(path=path)"
   ]
  },
  {
   "cell_type": "code",
   "execution_count": 4,
   "metadata": {
    "collapsed": false
   },
   "outputs": [
    {
     "name": "stdout",
     "output_type": "stream",
     "text": [
      "Number of dimensions = 93\n",
      "Number of classes = 9\n"
     ]
    }
   ],
   "source": [
    "dims = x_train.shape[1]\n",
    "nb_classes = y_train.shape[1]\n",
    "print(\"Number of dimensions =\", dims)\n",
    "print(\"Number of classes =\", nb_classes)"
   ]
  },
  {
   "cell_type": "code",
   "execution_count": 5,
   "metadata": {
    "collapsed": false
   },
   "outputs": [
    {
     "name": "stdout",
     "output_type": "stream",
     "text": [
      "Train on 43314 samples, validate on 9282 samples\n",
      "Epoch 1/100\n",
      "43314/43314 [==============================] - 1s - loss: 1.2662 - val_loss: 0.9017\n",
      "Epoch 2/100\n",
      "43314/43314 [==============================] - 1s - loss: 0.8409 - val_loss: 0.7987\n",
      "Epoch 3/100\n",
      "43314/43314 [==============================] - 2s - loss: 0.7731 - val_loss: 0.7586\n",
      "Epoch 4/100\n",
      "43314/43314 [==============================] - 2s - loss: 0.7400 - val_loss: 0.7359\n",
      "Epoch 5/100\n",
      "43314/43314 [==============================] - 1s - loss: 0.7195 - val_loss: 0.7214\n",
      "Epoch 6/100\n",
      "43314/43314 [==============================] - 1s - loss: 0.7054 - val_loss: 0.7103\n",
      "Epoch 7/100\n",
      "43314/43314 [==============================] - 1s - loss: 0.6947 - val_loss: 0.7032\n",
      "Epoch 8/100\n",
      "43314/43314 [==============================] - 1s - loss: 0.6867 - val_loss: 0.6968\n",
      "Epoch 9/100\n",
      "43314/43314 [==============================] - 1s - loss: 0.6803 - val_loss: 0.6921\n",
      "Epoch 10/100\n",
      "43314/43314 [==============================] - 1s - loss: 0.6750 - val_loss: 0.6873\n",
      "Epoch 11/100\n",
      "43314/43314 [==============================] - 1s - loss: 0.6706 - val_loss: 0.6842\n",
      "Epoch 12/100\n",
      "43314/43314 [==============================] - 1s - loss: 0.6669 - val_loss: 0.6806\n",
      "Epoch 13/100\n",
      "43314/43314 [==============================] - 1s - loss: 0.6635 - val_loss: 0.6791\n",
      "Epoch 14/100\n",
      "43314/43314 [==============================] - 1s - loss: 0.6609 - val_loss: 0.6765\n",
      "Epoch 15/100\n",
      "43314/43314 [==============================] - 1s - loss: 0.6582 - val_loss: 0.6756\n",
      "Epoch 16/100\n",
      "43314/43314 [==============================] - 1s - loss: 0.6562 - val_loss: 0.6727\n",
      "Epoch 17/100\n",
      "43314/43314 [==============================] - 1s - loss: 0.6541 - val_loss: 0.6712\n",
      "Epoch 18/100\n",
      "43314/43314 [==============================] - 1s - loss: 0.6524 - val_loss: 0.6701\n",
      "Epoch 19/100\n",
      "43314/43314 [==============================] - 1s - loss: 0.6507 - val_loss: 0.6688\n",
      "Epoch 20/100\n",
      "43314/43314 [==============================] - 1s - loss: 0.6492 - val_loss: 0.6685\n",
      "Epoch 21/100\n",
      "43314/43314 [==============================] - 1s - loss: 0.6479 - val_loss: 0.6660\n",
      "Epoch 22/100\n",
      "43314/43314 [==============================] - 1s - loss: 0.6466 - val_loss: 0.6656\n",
      "Epoch 23/100\n",
      "43314/43314 [==============================] - 2s - loss: 0.6455 - val_loss: 0.6651\n",
      "Epoch 24/100\n",
      "43314/43314 [==============================] - 2s - loss: 0.6445 - val_loss: 0.6642\n",
      "Epoch 25/100\n",
      "43314/43314 [==============================] - 1s - loss: 0.6435 - val_loss: 0.6632\n",
      "Epoch 26/100\n",
      "43314/43314 [==============================] - 1s - loss: 0.6426 - val_loss: 0.6629\n",
      "Epoch 27/100\n",
      "43314/43314 [==============================] - 1s - loss: 0.6419 - val_loss: 0.6618\n",
      "Epoch 28/100\n",
      "43314/43314 [==============================] - 1s - loss: 0.6409 - val_loss: 0.6623\n",
      "Epoch 29/100\n",
      "43314/43314 [==============================] - 1s - loss: 0.6403 - val_loss: 0.6613\n",
      "Epoch 30/100\n",
      "43314/43314 [==============================] - 1s - loss: 0.6396 - val_loss: 0.6602\n",
      "Epoch 31/100\n",
      "43314/43314 [==============================] - 1s - loss: 0.6390 - val_loss: 0.6602\n",
      "Epoch 32/100\n",
      "43314/43314 [==============================] - 1s - loss: 0.6383 - val_loss: 0.6603\n",
      "Epoch 33/100\n",
      "43314/43314 [==============================] - 1s - loss: 0.6377 - val_loss: 0.6586\n",
      "Epoch 34/100\n",
      "43314/43314 [==============================] - 1s - loss: 0.6372 - val_loss: 0.6598\n",
      "Epoch 35/100\n",
      "43314/43314 [==============================] - 1s - loss: 0.6367 - val_loss: 0.6588\n",
      "Epoch 36/100\n",
      "43314/43314 [==============================] - 1s - loss: 0.6364 - val_loss: 0.6580\n",
      "Epoch 37/100\n",
      "43314/43314 [==============================] - 1s - loss: 0.6358 - val_loss: 0.6574\n",
      "Epoch 38/100\n",
      "43314/43314 [==============================] - 1s - loss: 0.6352 - val_loss: 0.6572\n",
      "Epoch 39/100\n",
      "43314/43314 [==============================] - 1s - loss: 0.6349 - val_loss: 0.6582\n",
      "Epoch 40/100\n",
      "43314/43314 [==============================] - 1s - loss: 0.6346 - val_loss: 0.6573\n",
      "Epoch 41/100\n",
      "43314/43314 [==============================] - 1s - loss: 0.6342 - val_loss: 0.6569\n",
      "Epoch 42/100\n",
      "43314/43314 [==============================] - 2s - loss: 0.6338 - val_loss: 0.6560\n",
      "Epoch 43/100\n",
      "43314/43314 [==============================] - 2s - loss: 0.6334 - val_loss: 0.6561\n",
      "Epoch 44/100\n",
      "43314/43314 [==============================] - 1s - loss: 0.6332 - val_loss: 0.6560\n",
      "Epoch 45/100\n",
      "43314/43314 [==============================] - 1s - loss: 0.6327 - val_loss: 0.6561\n",
      "Epoch 46/100\n",
      "43314/43314 [==============================] - 1s - loss: 0.6324 - val_loss: 0.6553\n",
      "Epoch 47/100\n",
      "43314/43314 [==============================] - 1s - loss: 0.6322 - val_loss: 0.6557\n",
      "Epoch 48/100\n",
      "43314/43314 [==============================] - 1s - loss: 0.6319 - val_loss: 0.6552\n",
      "Epoch 49/100\n",
      "43314/43314 [==============================] - 1s - loss: 0.6316 - val_loss: 0.6546\n",
      "Epoch 50/100\n",
      "43314/43314 [==============================] - 1s - loss: 0.6313 - val_loss: 0.6548\n",
      "Epoch 51/100\n",
      "43314/43314 [==============================] - 1s - loss: 0.6310 - val_loss: 0.6547\n",
      "Epoch 52/100\n",
      "43314/43314 [==============================] - 1s - loss: 0.6309 - val_loss: 0.6540\n",
      "Epoch 53/100\n",
      "43314/43314 [==============================] - 1s - loss: 0.6304 - val_loss: 0.6541\n",
      "Epoch 54/100\n",
      "43314/43314 [==============================] - 1s - loss: 0.6304 - val_loss: 0.6541\n",
      "Epoch 55/100\n",
      "43314/43314 [==============================] - 1s - loss: 0.6302 - val_loss: 0.6535\n",
      "Epoch 56/100\n",
      "43314/43314 [==============================] - 1s - loss: 0.6299 - val_loss: 0.6540\n",
      "Epoch 57/100\n",
      "43314/43314 [==============================] - 1s - loss: 0.6296 - val_loss: 0.6542\n",
      "Epoch 58/100\n",
      "43314/43314 [==============================] - 1s - loss: 0.6295 - val_loss: 0.6542\n",
      "Epoch 59/100\n",
      "43314/43314 [==============================] - 1s - loss: 0.6293 - val_loss: 0.6531\n",
      "Epoch 60/100\n",
      "43314/43314 [==============================] - 1s - loss: 0.6290 - val_loss: 0.6533\n",
      "Epoch 61/100\n",
      "43314/43314 [==============================] - 1s - loss: 0.6290 - val_loss: 0.6537\n",
      "Epoch 62/100\n",
      "43314/43314 [==============================] - 1s - loss: 0.6288 - val_loss: 0.6529\n",
      "Epoch 63/100\n",
      "43314/43314 [==============================] - 1s - loss: 0.6286 - val_loss: 0.6536\n",
      "Epoch 64/100\n",
      "43314/43314 [==============================] - 1s - loss: 0.6285 - val_loss: 0.6537\n",
      "Epoch 65/100\n",
      "43314/43314 [==============================] - 1s - loss: 0.6282 - val_loss: 0.6535\n",
      "Epoch 66/100\n",
      "43314/43314 [==============================] - 1s - loss: 0.6281 - val_loss: 0.6535\n",
      "Epoch 67/100\n",
      "43314/43314 [==============================] - 1s - loss: 0.6280 - val_loss: 0.6532\n",
      "Epoch 00066: early stopping\n",
      "9280/9282 [============================>.] - ETA: 0s"
     ]
    },
    {
     "data": {
      "text/plain": [
       "0.65315415743121141"
      ]
     },
     "execution_count": 5,
     "metadata": {},
     "output_type": "execute_result"
    }
   ],
   "source": [
    "model = Sequential()\n",
    "model.add(Dense(100, input_shape=(dims,)))\n",
    "# model.add(Dense(100))\n",
    "# model.add(Dense(100))\n",
    "model.add(Dense(nb_classes))\n",
    "model.add(Activation('softmax'))\n",
    "model.compile(optimizer='sgd', loss='categorical_crossentropy')\n",
    "\n",
    "path_to_model = 'model/model.h5'\n",
    "early_stop = EarlyStopping(monitor='val_loss', patience=4, verbose=1) \n",
    "best_model = ModelCheckpoint(path_to_model, verbose=0, save_best_only=True)\n",
    "\n",
    "model.fit(x_train, y_train,\n",
    "          validation_data = (x_val, y_val),\n",
    "          nb_epoch=100,\n",
    "          batch_size=128,\n",
    "          verbose = True,\n",
    "          callbacks=[early_stop, best_model])\n",
    "\n",
    "model.evaluate(x_val, y_val, verbose=1)"
   ]
  },
  {
   "cell_type": "code",
   "execution_count": 6,
   "metadata": {
    "collapsed": false
   },
   "outputs": [
    {
     "data": {
      "text/plain": [
       "['loss']"
      ]
     },
     "execution_count": 6,
     "metadata": {},
     "output_type": "execute_result"
    }
   ],
   "source": [
    "model.metrics_names"
   ]
  },
  {
   "cell_type": "code",
   "execution_count": 7,
   "metadata": {
    "collapsed": false
   },
   "outputs": [
    {
     "data": {
      "text/plain": [
       "array([ 0.23099582,  0.06904652,  0.02361656,  0.00663695,  0.02984776,\n",
       "        0.15226662,  0.06315273,  0.26238906,  0.16204797], dtype=float32)"
      ]
     },
     "execution_count": 7,
     "metadata": {},
     "output_type": "execute_result"
    }
   ],
   "source": [
    "model.predict(x_val)[0]"
   ]
  },
  {
   "cell_type": "code",
   "execution_count": 8,
   "metadata": {
    "collapsed": false
   },
   "outputs": [
    {
     "data": {
      "text/plain": [
       "array([ 1.,  0.,  0.,  0.,  0.,  0.,  0.,  0.,  0.])"
      ]
     },
     "execution_count": 8,
     "metadata": {},
     "output_type": "execute_result"
    }
   ],
   "source": [
    "y_val[0]"
   ]
  },
  {
   "cell_type": "code",
   "execution_count": null,
   "metadata": {
    "collapsed": true
   },
   "outputs": [],
   "source": []
  }
 ],
 "metadata": {
  "kernelspec": {
   "display_name": "Python 3",
   "language": "python",
   "name": "python3"
  },
  "language_info": {
   "codemirror_mode": {
    "name": "ipython",
    "version": 3
   },
   "file_extension": ".py",
   "mimetype": "text/x-python",
   "name": "python",
   "nbconvert_exporter": "python",
   "pygments_lexer": "ipython3",
   "version": "3.4.3"
  }
 },
 "nbformat": 4,
 "nbformat_minor": 1
}
